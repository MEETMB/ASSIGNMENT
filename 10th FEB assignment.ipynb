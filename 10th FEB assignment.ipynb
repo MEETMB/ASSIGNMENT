{
 "cells": [
  {
   "cell_type": "code",
   "execution_count": null,
   "id": "2517860c-d538-4897-b93f-09e07f74ee3b",
   "metadata": {},
   "outputs": [],
   "source": [
    "# Q1\n",
    "# open() function is used to open a file.\n",
    "1. f = open(\"file.txt\",'r')\n",
    "2. f = open(\"file.txt\",'w')\n",
    "3. f = open(\"file.txt\",'a')\n",
    "4. f = open(\"file.txt\",'x')\n",
    "5. f = open(\"file.txt\",'t')\n",
    "6. f = open(\"file.txt\",'b')\n",
    "7. f = open(\"file.txt\",'+')\n",
    "\n",
    "'r'       open for reading (default)\n",
    "'w'       open for writing, truncating the file first\n",
    "'x'       create a new file and open it for writing\n",
    "'a'       open for writing, appending to the end of the file if it exists\n",
    "'b'       binary mode\n",
    "'t'       text mode (default)\n",
    "'+'       open a disk file for updating (reading and writing)\n",
    "'U'       universal newline mode (deprecated)"
   ]
  },
  {
   "cell_type": "code",
   "execution_count": null,
   "id": "c2508cca-d10b-4e8f-8ef3-74717eadac1f",
   "metadata": {},
   "outputs": [],
   "source": [
    "# Q2\n",
    "# The close() method of a file object flushes any unwritten information and closes the file object, after which no more writing can be done.\n",
    "# It can slow down your program. Too many things open, and thus more used space in the RAM, will impact performance."
   ]
  },
  {
   "cell_type": "code",
   "execution_count": 1,
   "id": "b126f7bb-1360-48fd-b704-8395f9529857",
   "metadata": {},
   "outputs": [],
   "source": [
    "# Q3\n",
    "f = open(\"assignment.txt\",'w')\n",
    "f.write(\"I want to become a Data Scientist\")\n",
    "f.close()"
   ]
  },
  {
   "cell_type": "code",
   "execution_count": 2,
   "id": "3e5f93fa-aa07-4053-b6b0-6e4c40cc579a",
   "metadata": {},
   "outputs": [
    {
     "data": {
      "text/plain": [
       "'I want to become a Data Scientist'"
      ]
     },
     "execution_count": 2,
     "metadata": {},
     "output_type": "execute_result"
    }
   ],
   "source": [
    "f = open(\"assignment.txt\",'r')\n",
    "f.read()"
   ]
  },
  {
   "cell_type": "code",
   "execution_count": 19,
   "id": "1da07933-a8ce-48da-88b0-e5ba2c41dd30",
   "metadata": {},
   "outputs": [
    {
     "name": "stdout",
     "output_type": "stream",
     "text": [
      "Output of Read function is \n",
      "Hello \n",
      "This is Delhi \n",
      "This is Paris \n",
      "This is London \n",
      "\n",
      "\n",
      "Output of Readline function is \n",
      "Hello \n",
      "\n",
      "\n",
      "Output of Read(9) function is \n",
      "Hello \n",
      "Th\n",
      "\n",
      "Output of Readline(9) function is \n",
      "Hello \n",
      "\n",
      "Output of Readlines function is \n",
      "['Hello \\n', 'This is Delhi \\n', 'This is Paris \\n', 'This is London \\n']\n",
      "\n"
     ]
    }
   ],
   "source": [
    "# Q4\n",
    "'''1.read() : Returns the read bytes in form of a string. Reads n bytes, if no n specified, reads the entire file.'''\n",
    "\n",
    "'''2. readline() : Reads a line of the file and returns in form of a string.For specified n, reads at most n bytes.\n",
    "                   However, does not reads more than one line, even if n exceeds the length of the line.'''\n",
    "\n",
    "'''3. readlines() : Reads all the lines and return them as each line a string element in a list.'''\n",
    "\n",
    "file1 = open(\"myfile.txt\",\"w\")\n",
    "L = [\"This is Delhi \\n\",\"This is Paris \\n\",\"This is London \\n\"]\n",
    " \n",
    "    \n",
    "file1.write(\"Hello \\n\")\n",
    "file1.writelines(L)\n",
    "file1.close() \n",
    " \n",
    "file1 = open(\"myfile.txt\",\"r+\")\n",
    " \n",
    "print(\"Output of Read function is \")\n",
    "print(file1.read())\n",
    "print()\n",
    " \n",
    "file1.seek(0)\n",
    " \n",
    "print( \"Output of Readline function is \")\n",
    "print(file1.readline())\n",
    "print()\n",
    " \n",
    "file1.seek(0)\n",
    " \n",
    "print(\"Output of Read(9) function is \")\n",
    "print(file1.read(9))\n",
    "print()\n",
    " \n",
    "file1.seek(0)\n",
    " \n",
    "print(\"Output of Readline(9) function is \")\n",
    "print(file1.readline(9))\n",
    " \n",
    "file1.seek(0)\n",
    "print(\"Output of Readlines function is \")\n",
    "print(file1.readlines())\n",
    "print()\n",
    "file1.close()"
   ]
  },
  {
   "cell_type": "code",
   "execution_count": null,
   "id": "11d80ee8-0f91-4c24-86e7-7a3e35207be0",
   "metadata": {},
   "outputs": [],
   "source": [
    "# Q5\n",
    "'''with statement is used in exception handling to make the code cleaner and much more readable '''\n",
    "'''Benefits of calling open() using “with statement” Fewer chances of bug due to coding error. \n",
    "   No need to explicitly close the opened file, “with statement” takes care of that.\n",
    "   When with the block ends, it will automatically close the file. \n",
    "   So, it reduces the number of lines of code and reduces the chances of bug.'''\n"
   ]
  },
  {
   "cell_type": "code",
   "execution_count": 24,
   "id": "1683c558-b0f6-4790-ae10-58baecd78145",
   "metadata": {},
   "outputs": [
    {
     "name": "stdout",
     "output_type": "stream",
     "text": [
      "Hello \n",
      "This is Delhi \n",
      "This is Paris \n",
      "This is London \n",
      "\n"
     ]
    }
   ],
   "source": [
    "# Q6\n",
    "'''write() : Inserts the string str1 in a single line in the text file.'''\n",
    "'''writelines() : For a list of string elements, each string is inserted in the text file.Used to insert multiple strings at a single time.'''\n",
    "\n",
    "\n",
    "file2 = open(\"myfile1.txt\",\"w\")\n",
    "L = [\"This is Delhi \\n\",\"This is Paris \\n\",\"This is London \\n\"]\n",
    " \n",
    "file2.write(\"Hello \\n\")\n",
    "file2.writelines(L)\n",
    "file2.close() \n",
    "file2 = open(\"myfile1.txt\",\"r\")\n",
    "print(file2.read())\n",
    "file2.close()"
   ]
  },
  {
   "cell_type": "code",
   "execution_count": null,
   "id": "ebb947f6-cbd1-4b61-b8e6-c4f9400885f9",
   "metadata": {},
   "outputs": [],
   "source": []
  }
 ],
 "metadata": {
  "kernelspec": {
   "display_name": "Python 3 (ipykernel)",
   "language": "python",
   "name": "python3"
  },
  "language_info": {
   "codemirror_mode": {
    "name": "ipython",
    "version": 3
   },
   "file_extension": ".py",
   "mimetype": "text/x-python",
   "name": "python",
   "nbconvert_exporter": "python",
   "pygments_lexer": "ipython3",
   "version": "3.10.8"
  }
 },
 "nbformat": 4,
 "nbformat_minor": 5
}
