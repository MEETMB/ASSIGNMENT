{
 "cells": [
  {
   "cell_type": "code",
   "execution_count": null,
   "id": "41813ed3-b919-46b5-b37d-1e22e698472d",
   "metadata": {},
   "outputs": [],
   "source": [
    "# Q1\n",
    "multithreading in a python is process of running multiple programs at the same time in single core.\n",
    "it is used to efficienty run the multiple programs at same time and increasing efficiency of programs.\n",
    "threading module is used to handle threads in python."
   ]
  },
  {
   "cell_type": "code",
   "execution_count": null,
   "id": "f238cdb4-9e05-464e-a7c1-70a7a23e4640",
   "metadata": {},
   "outputs": [],
   "source": [
    "# Q2\n",
    "threading module is used to thread multiple programs at same time in single core.\n",
    "1. activecount() - It is used to return the number of Thread objects that are active at any instant.\n",
    "2. currentthread() - It is used to return the current Thread object, which corresponds to the caller's thread of control. \n",
    "3. enumerate - The enumerate () function takes a collection (e.g. a tuple) and returns it as an enumerate object.\n"
   ]
  },
  {
   "cell_type": "code",
   "execution_count": null,
   "id": "de0401ac-4fd9-4b32-9f55-f3fb9ca17795",
   "metadata": {},
   "outputs": [],
   "source": [
    "# Q3\n",
    "1. run()\n",
    "This function invokes the callable object we passed to the constructor as the target argument if it exists. While calling the target, \n",
    "the args and kwargs are given to the object. We can override this function in a subclass.\n",
    "\n",
    "2. start()\n",
    "This function starts the thread activity. We get a RuntimeError if we call it more than once. \n",
    "So,it should be called only once for a thread instance.\n",
    "\n",
    "3. join()\n",
    "This function is used when we want the program to wait until the thread execution is completed. \n",
    "It blocks the calling of thread until the one on which we call join() terminates normally or with an exception, or until timeout is reached.\n",
    "\n",
    "4. is_alive()\n",
    "This function is used to check if the thread is alive or not.\n",
    "It returns true for a thread if it is in the phase between the starting of the run() function and the stage after it terminates."
   ]
  },
  {
   "cell_type": "code",
   "execution_count": 5,
   "id": "f4c92ba2-6082-4706-a842-755bcff11d21",
   "metadata": {},
   "outputs": [
    {
     "name": "stdout",
     "output_type": "stream",
     "text": [
      "[1, 4, 9, 16] [1, 8, 27, 64]\n"
     ]
    }
   ],
   "source": [
    "# Q4\n",
    "import threading \n",
    "import logging\n",
    "import time\n",
    "\n",
    "l1 = []\n",
    "l2 = []\n",
    "\n",
    "logging.basicConfig(filename='thread1.log',level = logging.INFO)\n",
    "\n",
    "def square(i):\n",
    "    l1.append(i**2)\n",
    "\n",
    "def cube(j):\n",
    "    l2.append(j**3)\n",
    "    time.sleep(2)\n",
    "        \n",
    "l = [1,2,3,4]\n",
    "        \n",
    "thread1 = [threading.Thread(target = square , args = (i,)) for i in l]\n",
    "thread2 = [threading.Thread(target = cube , args = (j,)) for j in l]\n",
    "for t in thread1:\n",
    "    t.start()\n",
    "for m in thread2:\n",
    "    m.start()\n",
    "logging.info(l1,l2)"
   ]
  },
  {
   "cell_type": "code",
   "execution_count": null,
   "id": "184d87e4-2e88-46f9-bcff-81c93c7aa4d6",
   "metadata": {},
   "outputs": [],
   "source": [
    "# Q5\n",
    "Advantages:\n",
    "1. Since the threads are independent of each other, the user is not blocked.\n",
    "2. Since the threads do parallel execution, the resources of the device can be used efficiently.\n",
    "3. Enhance the performance of the multi-processor machines.\n",
    "4. Many of the GUIs and CPUs used in the current days include multithreading.\n",
    "\n",
    "Disadvantages:\n",
    "1. The complexity increases with the increase in the number of threads\n",
    "2. It is necessary to maintain synchronization while sharing the resources among multiple threads\n",
    "3. It is difficult to debug the programs with threads as the result is sometimes unpredictable.\n",
    "4. The process of constructing and synchronizing the threads is CPU/memory intensive.\n",
    "    "
   ]
  },
  {
   "cell_type": "code",
   "execution_count": null,
   "id": "7a5d7b8c-4e58-40b6-b43c-8f66f5a5260d",
   "metadata": {},
   "outputs": [],
   "source": [
    "# Q6\n",
    "Race conditions occurs in the situation when multiple threads try to modify the same shared data. \n",
    "Since the threads are running simultaneously, there is a lot of chance of ambiguous output or change.\n",
    "To overcome this problem deadlocks are used. there are two methods:\n",
    "1. acquire(blocking=True, timeout=-1):\n",
    "    This function acquires a lock, which can be either blocking or non-blocking.\n",
    "    When the parameter blocking is True (the default), thread execution is blocked until the lock is unlocked.\n",
    "    Then the lock is set to locked and returns True. But when it is False, thread execution is not blocked. \n",
    "    If the lock is unlocked, then it is locked, and True is returned else returned False.\n",
    "\n",
    "2. release():\n",
    "    To function releases the lock. When the lock is locked, it is reset to unlocked and returned. If any other threads are blocked,\n",
    "    waiting for the lock to become unlocked, it allows exactly one of them to proceed. If the lock is already unlocked, we get a ThreadError"
   ]
  }
 ],
 "metadata": {
  "kernelspec": {
   "display_name": "Python 3 (ipykernel)",
   "language": "python",
   "name": "python3"
  },
  "language_info": {
   "codemirror_mode": {
    "name": "ipython",
    "version": 3
   },
   "file_extension": ".py",
   "mimetype": "text/x-python",
   "name": "python",
   "nbconvert_exporter": "python",
   "pygments_lexer": "ipython3",
   "version": "3.10.8"
  }
 },
 "nbformat": 4,
 "nbformat_minor": 5
}
