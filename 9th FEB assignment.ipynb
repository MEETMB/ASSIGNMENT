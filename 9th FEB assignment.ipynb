{
 "cells": [
  {
   "cell_type": "code",
   "execution_count": 1,
   "id": "bc644887-be19-4995-9351-76e4cb1c6cfc",
   "metadata": {},
   "outputs": [],
   "source": [
    "# Q1\n",
    "class vehicle :\n",
    "    def __init__(self,name_of_vehicle,max_speed,average_of_vehicle):\n",
    "        self.name_of_vehicle = name_of_vehicle\n",
    "        self.max_speed = max_speed\n",
    "        self.average_of_vehicle = average_of_vehicle"
   ]
  },
  {
   "cell_type": "code",
   "execution_count": 2,
   "id": "5744291e-84b0-43b7-99be-10c7323d77e9",
   "metadata": {},
   "outputs": [],
   "source": [
    "# Q2\n",
    "class car(vehicle):\n",
    "    def seating_capacity(self,capacity):\n",
    "        self.capacity = capacity\n",
    "        return self.name_of_vehicle,self.capacity"
   ]
  },
  {
   "cell_type": "code",
   "execution_count": 4,
   "id": "b879b1db-70d4-4e07-8c41-dd8c523edd35",
   "metadata": {},
   "outputs": [],
   "source": [
    "CAR = car(\"toyota\",180,30)"
   ]
  },
  {
   "cell_type": "code",
   "execution_count": 5,
   "id": "4456c527-a663-4003-97b8-cdfc3bca7439",
   "metadata": {},
   "outputs": [
    {
     "data": {
      "text/plain": [
       "('toyota', 7)"
      ]
     },
     "execution_count": 5,
     "metadata": {},
     "output_type": "execute_result"
    }
   ],
   "source": [
    "CAR.seating_capacity(7)"
   ]
  },
  {
   "cell_type": "code",
   "execution_count": 8,
   "id": "5a791351-1fe9-451a-a666-10e7eb173d9f",
   "metadata": {},
   "outputs": [
    {
     "name": "stdout",
     "output_type": "stream",
     "text": [
      "mammals produces milk\n",
      "birds can fly\n"
     ]
    }
   ],
   "source": [
    "# Q3\n",
    "# if a child class inherits from more than one class it is called multiple inheritance.\n",
    "class mammal :\n",
    "    def mammal_info(self):\n",
    "        print(\"mammals produces milk\")\n",
    "\n",
    "class birds :\n",
    "    def birds_info(self):\n",
    "        print(\"birds can fly\")\n",
    "        \n",
    "        \n",
    "class bat(mammal,birds):\n",
    "    pass\n",
    "\n",
    "BAT = bat()\n",
    "BAT.mammal_info()\n",
    "BAT.birds_info()"
   ]
  },
  {
   "cell_type": "code",
   "execution_count": 1,
   "id": "f8b5bb44-f192-4caa-9c38-02c29a65bfe0",
   "metadata": {},
   "outputs": [],
   "source": [
    "# Q4\n",
    "# Getter is a method that allows to you to access an attribute in a given class\n",
    "# Setter is a method that allows you to set or mutate value in a class\n",
    "\n",
    "class Employee :\n",
    "    def __init__(self,name,salary):\n",
    "        self.name = name\n",
    "        self.__salary = salary\n",
    "        \n",
    "    @property\n",
    "    def salary_access(self):\n",
    "        return self.__salary\n",
    "    \n",
    "    @salary_access.setter\n",
    "    def salary_set(self,new_salary):\n",
    "        self.__salary = new_salary\n",
    "        \n",
    "        \n",
    "        \n",
    "        "
   ]
  },
  {
   "cell_type": "code",
   "execution_count": 4,
   "id": "d32c5ad0-16df-4a4d-a620-59d122d99ea1",
   "metadata": {},
   "outputs": [],
   "source": [
    "emp = Employee(\"meet\",30000)"
   ]
  },
  {
   "cell_type": "code",
   "execution_count": 5,
   "id": "3107a188-2bc7-40cd-86cd-1217f11ddcad",
   "metadata": {},
   "outputs": [
    {
     "data": {
      "text/plain": [
       "30000"
      ]
     },
     "execution_count": 5,
     "metadata": {},
     "output_type": "execute_result"
    }
   ],
   "source": [
    "emp.salary_access"
   ]
  },
  {
   "cell_type": "code",
   "execution_count": 6,
   "id": "5af49ceb-332f-4299-997d-3bfeb7bd0d32",
   "metadata": {},
   "outputs": [],
   "source": [
    "emp.salary_set = 33000"
   ]
  },
  {
   "cell_type": "code",
   "execution_count": 7,
   "id": "fbf46ca1-6afd-4f84-accf-d836151c1ee1",
   "metadata": {},
   "outputs": [
    {
     "data": {
      "text/plain": [
       "33000"
      ]
     },
     "execution_count": 7,
     "metadata": {},
     "output_type": "execute_result"
    }
   ],
   "source": [
    "emp.salary_access"
   ]
  },
  {
   "cell_type": "code",
   "execution_count": 8,
   "id": "d0db72b6-2e79-45e5-92cf-79f1db96c24c",
   "metadata": {},
   "outputs": [],
   "source": [
    "# Q5\n",
    "\"\"\"Method overriding is an ability of any object-oriented programming language that allows a subclass or child class\n",
    "to provide a specific implementation of a method that is already provided by one of its super-classes or parent classes\"\"\"\n",
    "\n",
    "class parent :\n",
    "    def show(self):\n",
    "        print(\"inside parent\")\n",
    "        \n",
    "        \n",
    "class child(parent):\n",
    "    def show(self):\n",
    "        print(\"inside child\")"
   ]
  },
  {
   "cell_type": "code",
   "execution_count": 11,
   "id": "e0b92ecf-398a-44e1-a86f-00b858cf2b43",
   "metadata": {},
   "outputs": [],
   "source": [
    "obj_parent = parent()\n",
    "obj_child = child()"
   ]
  },
  {
   "cell_type": "code",
   "execution_count": 12,
   "id": "5fb98bc2-55ea-48a6-bcad-934a34842d12",
   "metadata": {},
   "outputs": [
    {
     "name": "stdout",
     "output_type": "stream",
     "text": [
      "inside parent\n"
     ]
    }
   ],
   "source": [
    "obj_parent.show()"
   ]
  },
  {
   "cell_type": "code",
   "execution_count": 13,
   "id": "9966312d-682e-4fad-96ec-1894b1024e9f",
   "metadata": {},
   "outputs": [
    {
     "name": "stdout",
     "output_type": "stream",
     "text": [
      "inside child\n"
     ]
    }
   ],
   "source": [
    "obj_child.show()"
   ]
  },
  {
   "cell_type": "code",
   "execution_count": null,
   "id": "0c731ead-5100-4c7e-873f-8e5ee026d9a8",
   "metadata": {},
   "outputs": [],
   "source": []
  }
 ],
 "metadata": {
  "kernelspec": {
   "display_name": "Python 3 (ipykernel)",
   "language": "python",
   "name": "python3"
  },
  "language_info": {
   "codemirror_mode": {
    "name": "ipython",
    "version": 3
   },
   "file_extension": ".py",
   "mimetype": "text/x-python",
   "name": "python",
   "nbconvert_exporter": "python",
   "pygments_lexer": "ipython3",
   "version": "3.10.8"
  }
 },
 "nbformat": 4,
 "nbformat_minor": 5
}
