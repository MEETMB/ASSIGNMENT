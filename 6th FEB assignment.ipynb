{
 "cells": [
  {
   "cell_type": "code",
   "execution_count": 28,
   "id": "4ea51c47-a842-413d-bc54-8b9365fdae9d",
   "metadata": {},
   "outputs": [],
   "source": [
    "# Q1\n",
    "list1 = [1,2,3,4, [44,55,66, True], False, (34,56,78,89,34), {1,2,3,3,2,1}, {1:34, \"key2\": [55, 67, 78, 89], 4: (45,\n",
    "22, 61, 34)}, [56, 'data science'], 'Machine Learning']\n",
    "\n",
    "def test(l):\n",
    "    l1 = []\n",
    "    for i in l:\n",
    "        if type(i) == int :\n",
    "            l1.append(i)\n",
    "        elif type(i) == list :\n",
    "            for j in i:\n",
    "                if type(j) == int :\n",
    "                    l1.append(j)\n",
    "        elif type(i) == tuple :\n",
    "            i = list(i)\n",
    "            for n in i:\n",
    "                if type(n) == int :\n",
    "                    l1.append(n)\n",
    "        elif type(i) == set :\n",
    "            for k in i :\n",
    "                if type(k) == int :\n",
    "                    l1.append(k)\n",
    "               \n",
    "        elif type(i) == dict :\n",
    "            for m in i.keys():\n",
    "                if type(m) == int :\n",
    "                    l1.append(m)\n",
    "            for x in i.values():\n",
    "                if type(x) == int:\n",
    "                    l1.append(x)\n",
    "                elif type(x) == list:\n",
    "                    for y in x :\n",
    "                        if type(y) == int :\n",
    "                            l1.append(y)\n",
    "                elif type(x) == tuple:\n",
    "                    x = list(x)\n",
    "                    for z in x :\n",
    "                        if type(z) == int :\n",
    "                            l1.append(z)\n",
    "    print(l1)\n",
    "    from functools import reduce\n",
    "    a = reduce(lambda x,y : x*y , l1)\n",
    "    return a\n",
    "                    \n",
    "    "
   ]
  },
  {
   "cell_type": "code",
   "execution_count": 29,
   "id": "128b414c-0025-4d9a-a7c6-086b60a07f97",
   "metadata": {},
   "outputs": [
    {
     "name": "stdout",
     "output_type": "stream",
     "text": [
      "[1, 2, 3, 4, 44, 55, 66, 34, 56, 78, 89, 34, 1, 2, 3, 1, 4, 34, 55, 67, 78, 89, 45, 22, 61, 34, 56]\n"
     ]
    },
    {
     "data": {
      "text/plain": [
       "4134711838987085478833841242112000"
      ]
     },
     "execution_count": 29,
     "metadata": {},
     "output_type": "execute_result"
    }
   ],
   "source": [
    "test(list1)"
   ]
  },
  {
   "cell_type": "code",
   "execution_count": 47,
   "id": "f1d94a05-1093-4cfc-bffe-3b682c9a772d",
   "metadata": {},
   "outputs": [
    {
     "data": {
      "text/plain": [
       "'r$dzmg$gl$yvxlnv$z$wzgz$hxrvmgrhg.'"
      ]
     },
     "execution_count": 47,
     "metadata": {},
     "output_type": "execute_result"
    }
   ],
   "source": [
    "# Q2\n",
    "s = \"I want to become a Data Scientist.\"\n",
    "a_to_z = {chr(i+96):chr(123-i) for i in range(1,27)}\n",
    "obj_alp = a_to_z\n",
    "m = \"\"\n",
    "s = s.lower()\n",
    "s = s.replace(\" \", \"$\")\n",
    "for j in s:\n",
    "    if j in obj_alp :\n",
    "        m = m + obj_alp[j]\n",
    "    else :\n",
    "        m = m + j\n",
    "        \n",
    "m"
   ]
  },
  {
   "cell_type": "code",
   "execution_count": null,
   "id": "f5e21d90-4ab9-419e-a805-35a07bc1e635",
   "metadata": {},
   "outputs": [],
   "source": []
  }
 ],
 "metadata": {
  "kernelspec": {
   "display_name": "Python 3 (ipykernel)",
   "language": "python",
   "name": "python3"
  },
  "language_info": {
   "codemirror_mode": {
    "name": "ipython",
    "version": 3
   },
   "file_extension": ".py",
   "mimetype": "text/x-python",
   "name": "python",
   "nbconvert_exporter": "python",
   "pygments_lexer": "ipython3",
   "version": "3.10.8"
  }
 },
 "nbformat": 4,
 "nbformat_minor": 5
}
