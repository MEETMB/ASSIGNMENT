{
 "cells": [
  {
   "cell_type": "code",
   "execution_count": 4,
   "id": "6ca647ba-8593-4f68-9c30-f510ada2054c",
   "metadata": {},
   "outputs": [],
   "source": [
    "# Q1\n",
    "# Class is a classification of a real world entity while oblect or variable or instance is a real world entity\n",
    "class greeting:\n",
    "    def msg(self):\n",
    "        print(\"HELLO\")"
   ]
  },
  {
   "cell_type": "code",
   "execution_count": 5,
   "id": "336c7a30-db52-4996-b8bd-a6489777002f",
   "metadata": {},
   "outputs": [],
   "source": [
    "meet = greeting()"
   ]
  },
  {
   "cell_type": "code",
   "execution_count": 7,
   "id": "bea2fd7c-a4d1-4c29-914b-3f1a24533c1b",
   "metadata": {},
   "outputs": [
    {
     "name": "stdout",
     "output_type": "stream",
     "text": [
      "HELLO\n"
     ]
    }
   ],
   "source": [
    "meet.msg()"
   ]
  },
  {
   "cell_type": "code",
   "execution_count": null,
   "id": "755a9c92-f8b7-468a-92fe-9286876d5d09",
   "metadata": {},
   "outputs": [],
   "source": [
    "# Q2\n",
    "1.polymorphism\n",
    "2.inheritance\n",
    "3.encapsulation\n",
    "4.abstraction"
   ]
  },
  {
   "cell_type": "code",
   "execution_count": 15,
   "id": "237217ed-ac6a-4011-b8ff-99d2c210ae6b",
   "metadata": {},
   "outputs": [],
   "source": [
    "# Q3\n",
    "# __init__ is a constructor which is used to take different objects and bind them to the class variables.\n",
    "class details:\n",
    "    def __init__(self,name,age):\n",
    "        self.name = name\n",
    "        self.age = age\n",
    "    \n",
    "    def info(self):\n",
    "        return self.name , self.age"
   ]
  },
  {
   "cell_type": "code",
   "execution_count": 20,
   "id": "100a2839-1c66-4d3a-a599-18b3faf67e78",
   "metadata": {},
   "outputs": [],
   "source": [
    "a = details(\"meet\",24)"
   ]
  },
  {
   "cell_type": "code",
   "execution_count": 21,
   "id": "ffa744ae-aa87-4e42-87a3-bc58ee92b7de",
   "metadata": {},
   "outputs": [
    {
     "data": {
      "text/plain": [
       "('meet', 24)"
      ]
     },
     "execution_count": 21,
     "metadata": {},
     "output_type": "execute_result"
    }
   ],
   "source": [
    "a.info()"
   ]
  },
  {
   "cell_type": "code",
   "execution_count": null,
   "id": "869fe735-c628-4ee1-98b4-265a236aa751",
   "metadata": {},
   "outputs": [],
   "source": [
    "# Q4\n",
    "self is used to bind the objects to the class."
   ]
  },
  {
   "cell_type": "code",
   "execution_count": 2,
   "id": "c793dedb-7b13-44b4-a9f7-1963aa72a0c5",
   "metadata": {},
   "outputs": [],
   "source": [
    "# Q5\n",
    "# inheritenance is a method to inherit properties from one class to another class or classes\n",
    "\n",
    "# 1.Hirerachical inheritence\n",
    " \n",
    "class animal :\n",
    "    def life_animal(self):\n",
    "        return \"I am animal\"\n",
    "\n",
    "    \n",
    "class cat(animal):\n",
    "    def voice_animal(self):\n",
    "        return \"meow meow\"\n",
    "    \n",
    "class dog(animal):\n",
    "    def voice_animal(self):\n",
    "        return \"bark bark\""
   ]
  },
  {
   "cell_type": "code",
   "execution_count": 3,
   "id": "f386bc62-b9bb-4cf0-83c8-d8800587fe05",
   "metadata": {},
   "outputs": [],
   "source": [
    "Cat = cat()\n",
    "Dog = dog()"
   ]
  },
  {
   "cell_type": "code",
   "execution_count": 8,
   "id": "cb983088-3465-4fba-9442-251b10c5b7e0",
   "metadata": {},
   "outputs": [
    {
     "data": {
      "text/plain": [
       "'I am animal'"
      ]
     },
     "execution_count": 8,
     "metadata": {},
     "output_type": "execute_result"
    }
   ],
   "source": [
    "Cat.life_animal()"
   ]
  },
  {
   "cell_type": "code",
   "execution_count": 7,
   "id": "f3568e80-e575-4d91-8734-05631d90dacb",
   "metadata": {},
   "outputs": [
    {
     "data": {
      "text/plain": [
       "'bark bark'"
      ]
     },
     "execution_count": 7,
     "metadata": {},
     "output_type": "execute_result"
    }
   ],
   "source": [
    "Dog.voice_animal()"
   ]
  },
  {
   "cell_type": "code",
   "execution_count": 9,
   "id": "f05527a3-9cab-4dbf-9959-04fe196f6638",
   "metadata": {},
   "outputs": [],
   "source": [
    "# 2. single inheritence\n",
    "\n",
    "class test :\n",
    "    \n",
    "    def test_msg(self):\n",
    "        return \"welcome\"\n",
    "    \n",
    "class test1(test):\n",
    "    pass"
   ]
  },
  {
   "cell_type": "code",
   "execution_count": 10,
   "id": "c97734ef-4cb1-40e1-a343-30c159bc22d3",
   "metadata": {},
   "outputs": [],
   "source": [
    "Test1 = test1()"
   ]
  },
  {
   "cell_type": "code",
   "execution_count": 11,
   "id": "f860c987-34d1-42fa-a7f8-00aa140a63ad",
   "metadata": {},
   "outputs": [
    {
     "data": {
      "text/plain": [
       "'welcome'"
      ]
     },
     "execution_count": 11,
     "metadata": {},
     "output_type": "execute_result"
    }
   ],
   "source": [
    "Test1.test_msg()"
   ]
  },
  {
   "cell_type": "code",
   "execution_count": 12,
   "id": "a0b9e0dc-fdb2-4bf5-b3c0-55aaae3aefad",
   "metadata": {},
   "outputs": [],
   "source": [
    "# 3. multilevel inheritence\n",
    "\n",
    "class test1 :\n",
    "    def msg1(self):\n",
    "        return \"welcome to my class\"\n",
    "    \n",
    "class test2(test1):\n",
    "    def msg2(self):\n",
    "        return \"you are ready to take lessons\"\n",
    "    \n",
    "class test3(test2):\n",
    "    pass\n",
    "        "
   ]
  },
  {
   "cell_type": "code",
   "execution_count": 14,
   "id": "0d73d185-5319-4e81-830b-747c68225ceb",
   "metadata": {},
   "outputs": [],
   "source": [
    "obj_test3 = test3()"
   ]
  },
  {
   "cell_type": "code",
   "execution_count": 15,
   "id": "5c3650db-1eb3-4aa1-a0f1-5907ff300876",
   "metadata": {},
   "outputs": [
    {
     "data": {
      "text/plain": [
       "'welcome to my class'"
      ]
     },
     "execution_count": 15,
     "metadata": {},
     "output_type": "execute_result"
    }
   ],
   "source": [
    "obj_test3.msg1()"
   ]
  },
  {
   "cell_type": "code",
   "execution_count": 16,
   "id": "4306f7fc-a3de-4003-abae-4cbf8fa3c633",
   "metadata": {},
   "outputs": [
    {
     "data": {
      "text/plain": [
       "'you are ready to take lessons'"
      ]
     },
     "execution_count": 16,
     "metadata": {},
     "output_type": "execute_result"
    }
   ],
   "source": [
    "obj_test3.msg2()"
   ]
  },
  {
   "cell_type": "code",
   "execution_count": 17,
   "id": "b2392567-0366-4270-82b1-296151a21b3f",
   "metadata": {},
   "outputs": [],
   "source": [
    "# 4. multiple inheritence\n",
    "\n",
    "class test1 :\n",
    "    def msg1(self):\n",
    "        return \"welcome to my class\"\n",
    "    \n",
    "class test2 :\n",
    "    def msg2(self):\n",
    "        return \"you are ready to take lessons\"\n",
    "    \n",
    "class test3(test1,test2):\n",
    "    pass\n",
    "        "
   ]
  },
  {
   "cell_type": "code",
   "execution_count": 18,
   "id": "59a12bf9-25dc-4961-8b6b-e4295ac88fac",
   "metadata": {},
   "outputs": [],
   "source": [
    "obj_test3 = test3()"
   ]
  },
  {
   "cell_type": "code",
   "execution_count": 19,
   "id": "7f30ecba-0aec-4e15-b4e8-157747fcb7e0",
   "metadata": {},
   "outputs": [
    {
     "data": {
      "text/plain": [
       "'welcome to my class'"
      ]
     },
     "execution_count": 19,
     "metadata": {},
     "output_type": "execute_result"
    }
   ],
   "source": [
    "obj_test3.msg1()"
   ]
  },
  {
   "cell_type": "code",
   "execution_count": 20,
   "id": "4781cae9-05f3-42c3-932d-1bd4c2cd6fa2",
   "metadata": {},
   "outputs": [
    {
     "data": {
      "text/plain": [
       "'you are ready to take lessons'"
      ]
     },
     "execution_count": 20,
     "metadata": {},
     "output_type": "execute_result"
    }
   ],
   "source": [
    "obj_test3.msg2()"
   ]
  },
  {
   "cell_type": "code",
   "execution_count": 33,
   "id": "c8315dde-939e-4475-8374-2ed3d378d0b1",
   "metadata": {},
   "outputs": [],
   "source": [
    "# 5. hybrid inheritence\n",
    "class vehicle :\n",
    "    def __init__(self,model,mileage,price):\n",
    "        self.model = model\n",
    "        self.mileage = mileage\n",
    "        self.price = price\n",
    "        \n",
    "    def show_details(self):\n",
    "        return self.model , self.mileage , self.price\n",
    "    \n",
    "class bike(vehicle):\n",
    "    def __init__(self,model,mileage,price,fuel,cc):\n",
    "        super().__init__(model,mileage,price)\n",
    "        self.fuel = fuel\n",
    "        self.cc = cc\n",
    "    \n",
    "    def show_details(self):\n",
    "        return super().show_details() , self.fuel,self.cc\n",
    "        \n",
    "    def rating(self):\n",
    "        return \" 4 star\"\n",
    "    \n",
    "class car(bike,vehicle):\n",
    "    def rating(self):\n",
    "        return \" 4 star\""
   ]
  },
  {
   "cell_type": "code",
   "execution_count": 34,
   "id": "9e8684ab-44ac-49b1-b323-ed9d094870fb",
   "metadata": {},
   "outputs": [],
   "source": [
    "Bike = bike(\"bajaj\",50,20000,\"petrol\",125)"
   ]
  },
  {
   "cell_type": "code",
   "execution_count": 35,
   "id": "70633f32-ccc4-4e94-8bca-db75121eae9e",
   "metadata": {},
   "outputs": [],
   "source": [
    "Car = car(\"TATA\",23,100000,\"diesel\",100)"
   ]
  },
  {
   "cell_type": "code",
   "execution_count": 36,
   "id": "9d6d94fb-dd00-42c9-8224-42f3ca93ad07",
   "metadata": {},
   "outputs": [
    {
     "data": {
      "text/plain": [
       "(('bajaj', 50, 20000), 'petrol', 125)"
      ]
     },
     "execution_count": 36,
     "metadata": {},
     "output_type": "execute_result"
    }
   ],
   "source": [
    "Bike.show_details()"
   ]
  },
  {
   "cell_type": "code",
   "execution_count": 38,
   "id": "a410cf64-804d-48e9-ae68-b550193787c0",
   "metadata": {},
   "outputs": [
    {
     "data": {
      "text/plain": [
       "125"
      ]
     },
     "execution_count": 38,
     "metadata": {},
     "output_type": "execute_result"
    }
   ],
   "source": [
    "Bike.cc"
   ]
  },
  {
   "cell_type": "code",
   "execution_count": 39,
   "id": "6b2b15f2-1409-4873-bbb7-71a617739869",
   "metadata": {},
   "outputs": [
    {
     "data": {
      "text/plain": [
       "(('TATA', 23, 100000), 'diesel', 100)"
      ]
     },
     "execution_count": 39,
     "metadata": {},
     "output_type": "execute_result"
    }
   ],
   "source": [
    "Car.show_details()"
   ]
  },
  {
   "cell_type": "code",
   "execution_count": 40,
   "id": "f1580d11-b3c1-4cae-9403-853a3d82de67",
   "metadata": {},
   "outputs": [
    {
     "data": {
      "text/plain": [
       "' 4 star'"
      ]
     },
     "execution_count": 40,
     "metadata": {},
     "output_type": "execute_result"
    }
   ],
   "source": [
    "Car.rating()"
   ]
  },
  {
   "cell_type": "code",
   "execution_count": 41,
   "id": "37bfe567-9867-4eec-ac87-9ea74ac492aa",
   "metadata": {},
   "outputs": [
    {
     "data": {
      "text/plain": [
       "'diesel'"
      ]
     },
     "execution_count": 41,
     "metadata": {},
     "output_type": "execute_result"
    }
   ],
   "source": [
    "Car.fuel"
   ]
  },
  {
   "cell_type": "code",
   "execution_count": null,
   "id": "dbfbcaf2-26f2-4009-a729-f4e59dc5d6eb",
   "metadata": {},
   "outputs": [],
   "source": []
  }
 ],
 "metadata": {
  "kernelspec": {
   "display_name": "Python 3 (ipykernel)",
   "language": "python",
   "name": "python3"
  },
  "language_info": {
   "codemirror_mode": {
    "name": "ipython",
    "version": 3
   },
   "file_extension": ".py",
   "mimetype": "text/x-python",
   "name": "python",
   "nbconvert_exporter": "python",
   "pygments_lexer": "ipython3",
   "version": "3.10.8"
  }
 },
 "nbformat": 4,
 "nbformat_minor": 5
}
