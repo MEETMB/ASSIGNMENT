{
 "cells": [
  {
   "cell_type": "code",
   "execution_count": null,
   "id": "2997a316-5414-4089-9884-4867f54a070e",
   "metadata": {},
   "outputs": [],
   "source": [
    "Q1 : GUIDO VAN ROSSUM\n",
    "Q2 : IMPERATIVE , FUNCTIONAL, PROCEDURAL AND OBJECT-ORIENTED\n",
    "Q3 : YES\n",
    "Q4 : .py and .pyi\n",
    "Q5 : INTERPRETED\n",
    "Q6 : A MODULE , A FUNCTION BODY AND A CLASS DEFINITION\n",
    "Q7 : #\n",
    "Q8 : sys. version\n",
    "Q9 : LAMBDA\n",
    "Q10: PREFERRED INSTALLER PROGRAM\n",
    "Q11: print() , type() , len() , input()\n",
    "Q12: 79 CHARACTERS\n",
    "Q13: BIG DATA , MACHINE LEARNING AND CLOUD COMPUTING\n",
    "Q14: A HEAP CONTAINS ALL PYTHON OBJECTS AND DATA STRUCTURES WHICH IS MANAGED BY PYTHON MEMORY MANAGER\n",
    "Q15: go to website official website of python and you will find download option for latest version of python.\n",
    "     for setting path automatically when install python you will see a selection bar station ADD PYTHON TO PATH .\n",
    "     for manually 1. right click on THIS PC and select properties\n",
    "                  2. go to advanced settings and select environmet variables.\n",
    "                  3. go to user varible and creat path. if it is already created select edit.\n",
    "                  4. go to new and enter python.exe location\n",
    "Q16: YES"
   ]
  }
 ],
 "metadata": {
  "kernelspec": {
   "display_name": "Python 3 (ipykernel)",
   "language": "python",
   "name": "python3"
  },
  "language_info": {
   "codemirror_mode": {
    "name": "ipython",
    "version": 3
   },
   "file_extension": ".py",
   "mimetype": "text/x-python",
   "name": "python",
   "nbconvert_exporter": "python",
   "pygments_lexer": "ipython3",
   "version": "3.10.8"
  }
 },
 "nbformat": 4,
 "nbformat_minor": 5
}
