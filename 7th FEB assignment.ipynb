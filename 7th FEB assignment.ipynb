{
 "cells": [
  {
   "cell_type": "code",
   "execution_count": 62,
   "id": "8deec1e1-5eee-4dea-9998-de40e62f9ffe",
   "metadata": {},
   "outputs": [
    {
     "name": "stdin",
     "output_type": "stream",
     "text": [
      "ENTER YOUR PASSWORD:  mEEtmb@1@$\n"
     ]
    },
    {
     "name": "stdout",
     "output_type": "stream",
     "text": [
      "Valid password\n"
     ]
    }
   ],
   "source": [
    "# Q1\n",
    "def password(n):\n",
    "    counter = 0\n",
    "    for i in n :\n",
    "        if i.isalnum() :\n",
    "            continue\n",
    "        else :\n",
    "            counter = counter + 1\n",
    "    if counter < 3 :\n",
    "        return \"invalid password\"\n",
    "    elif len(n) != 10:\n",
    "        return \"invalid password\"\n",
    "    elif sum(map(str.isupper,n)) < 2 :\n",
    "        return \"invalid password\"\n",
    "    elif sum(map(str.islower,n)) < 2 :\n",
    "        return \"invalid password\"\n",
    "    elif sum(map(str.isnumeric,n)) < 1:\n",
    "        return \"invalid password\"\n",
    "    else:\n",
    "        return \"Valid password\"\n",
    "user = input(\"ENTER YOUR PASSWORD: \")\n",
    "a = password(user)\n",
    "print(a)"
   ]
  },
  {
   "cell_type": "code",
   "execution_count": 55,
   "id": "6e68abce-f961-43e2-9888-4e47f8e182ea",
   "metadata": {},
   "outputs": [
    {
     "data": {
      "text/plain": [
       "True"
      ]
     },
     "execution_count": 55,
     "metadata": {},
     "output_type": "execute_result"
    }
   ],
   "source": [
    "# Q2\n",
    "# A\n",
    "s = \"I am a student\"\n",
    "a = lambda x : x.startswith(\"I\")\n",
    "a(s)\n"
   ]
  },
  {
   "cell_type": "code",
   "execution_count": 60,
   "id": "a0882aa7-f27f-410e-b606-cf63a5d67f21",
   "metadata": {},
   "outputs": [
    {
     "data": {
      "text/plain": [
       "False"
      ]
     },
     "execution_count": 60,
     "metadata": {},
     "output_type": "execute_result"
    }
   ],
   "source": [
    "# B\n",
    "n = \" my roll no is 101\"\n",
    "b = lambda x : x.isnumeric()\n",
    "b(n)"
   ]
  },
  {
   "cell_type": "code",
   "execution_count": 64,
   "id": "58add0fc-8346-460e-bd89-09a8ab60133e",
   "metadata": {},
   "outputs": [
    {
     "name": "stdout",
     "output_type": "stream",
     "text": [
      "[('grapes', 1000), ('mango', 99), ('orange', 80)]\n"
     ]
    }
   ],
   "source": [
    "# C\n",
    "l = [(\"mango\",99),(\"orange\",80), (\"grapes\", 1000)]\n",
    "l.sort(key = lambda x : x[0])\n",
    "print(l)"
   ]
  },
  {
   "cell_type": "code",
   "execution_count": 65,
   "id": "7eae7c48-a5e4-4dfc-a4af-7ad1c661b232",
   "metadata": {},
   "outputs": [
    {
     "data": {
      "text/plain": [
       "[1, 4, 9, 16, 25, 36, 49, 64, 81, 100]"
      ]
     },
     "execution_count": 65,
     "metadata": {},
     "output_type": "execute_result"
    }
   ],
   "source": [
    "# D\n",
    "[i**2 for i in range(1,11)]"
   ]
  },
  {
   "cell_type": "code",
   "execution_count": 68,
   "id": "e23183b5-98f1-4503-9d9f-debb85e55f21",
   "metadata": {},
   "outputs": [
    {
     "data": {
      "text/plain": [
       "[1.0,\n",
       " 1.2599210498948732,\n",
       " 1.4422495703074083,\n",
       " 1.5874010519681994,\n",
       " 1.7099759466766968,\n",
       " 1.8171205928321397,\n",
       " 1.912931182772389,\n",
       " 2.0,\n",
       " 2.080083823051904,\n",
       " 2.154434690031884]"
      ]
     },
     "execution_count": 68,
     "metadata": {},
     "output_type": "execute_result"
    }
   ],
   "source": [
    "# E\n",
    "l = [i for i in range(1,11)]\n",
    "def cube_root(n):\n",
    "    return n**(1/3)\n",
    "list(map(cube_root,l))"
   ]
  },
  {
   "cell_type": "code",
   "execution_count": 69,
   "id": "dbde105a-e110-45cb-b231-749c18e98a0f",
   "metadata": {},
   "outputs": [
    {
     "data": {
      "text/plain": [
       "False"
      ]
     },
     "execution_count": 69,
     "metadata": {},
     "output_type": "execute_result"
    }
   ],
   "source": [
    "# F\n",
    "n = 5\n",
    "a = lambda x : x%2 == 0 \n",
    "a(n)"
   ]
  },
  {
   "cell_type": "code",
   "execution_count": 71,
   "id": "1e440f36-4d6b-41aa-9342-c583687d8677",
   "metadata": {},
   "outputs": [
    {
     "data": {
      "text/plain": [
       "[1, 3, 5, 7, 9]"
      ]
     },
     "execution_count": 71,
     "metadata": {},
     "output_type": "execute_result"
    }
   ],
   "source": [
    "# G\n",
    "l = [1,2,3,4,5,6,7,8,9,10]\n",
    "list(filter(lambda x : x%2 != 0, l))"
   ]
  },
  {
   "cell_type": "code",
   "execution_count": 73,
   "id": "b4d32bff-96ca-4ff5-8caf-17be39148478",
   "metadata": {},
   "outputs": [
    {
     "name": "stdout",
     "output_type": "stream",
     "text": [
      "[-1, -2, -3, -4, -5] [1, 2, 3, 4, 5, 6]\n"
     ]
    }
   ],
   "source": [
    "# H\n",
    "l = [1,2,3,4,5,6,-1,-2,-3,-4,-5,0]\n",
    "a = list(filter(lambda x : x < 0 , l)) \n",
    "b = list(filter(lambda x : x > 0 , l)) \n",
    "print(a,b)"
   ]
  },
  {
   "cell_type": "code",
   "execution_count": null,
   "id": "b412e75e-b160-4d6e-95c3-a3585eba809e",
   "metadata": {},
   "outputs": [],
   "source": []
  }
 ],
 "metadata": {
  "kernelspec": {
   "display_name": "Python 3 (ipykernel)",
   "language": "python",
   "name": "python3"
  },
  "language_info": {
   "codemirror_mode": {
    "name": "ipython",
    "version": 3
   },
   "file_extension": ".py",
   "mimetype": "text/x-python",
   "name": "python",
   "nbconvert_exporter": "python",
   "pygments_lexer": "ipython3",
   "version": "3.10.8"
  }
 },
 "nbformat": 4,
 "nbformat_minor": 5
}
