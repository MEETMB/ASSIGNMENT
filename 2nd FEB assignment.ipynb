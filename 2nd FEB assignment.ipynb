{
 "cells": [
  {
   "cell_type": "code",
   "execution_count": 10,
   "id": "dc694713-7fa3-40e5-afe5-9ee86a97e054",
   "metadata": {},
   "outputs": [
    {
     "name": "stdin",
     "output_type": "stream",
     "text": [
      "enter the number:  5\n"
     ]
    },
    {
     "name": "stdout",
     "output_type": "stream",
     "text": [
      "[0, 1, 2, 3, 4, 5]\n"
     ]
    },
    {
     "name": "stdin",
     "output_type": "stream",
     "text": [
      "do you want to continue? n\n"
     ]
    },
    {
     "name": "stdout",
     "output_type": "stream",
     "text": [
      "you are done for today\n"
     ]
    }
   ],
   "source": [
    "# Q1\n",
    "# for loop is used when user knows number of iterations.\n",
    "n = int(input(\"enter the number: \"))\n",
    "l=[]\n",
    "for i in range(0,n+1):\n",
    "    l.append(i)\n",
    "print(l)\n",
    "# while loop is used when user do not know number of iterations.it iterates until given condition is not false.\n",
    "Y =True\n",
    "while Y == True:\n",
    "    n = input(\"do you want to continue?\")\n",
    "    if n == \"yes\"or n==\"y\":\n",
    "        print(\"proceeding to next assignment\")\n",
    "    else:\n",
    "        break\n",
    "print(\"you are done for today\")\n"
   ]
  },
  {
   "cell_type": "code",
   "execution_count": 21,
   "id": "577aaddc-cda2-44de-b399-8b787e774432",
   "metadata": {},
   "outputs": [
    {
     "name": "stdout",
     "output_type": "stream",
     "text": [
      "THE SUM OF FIRST NATURAL 10 NUMBERS IS 55\n",
      "THE MULTIPLICATION OF FIRST NATURAL 10 NUMBERS IS 3628800\n"
     ]
    }
   ],
   "source": [
    "# Q2\n",
    "# using for loop\n",
    "a=0\n",
    "b=1\n",
    "for i in range(1,11):\n",
    "    a = a+i\n",
    "    b = b*i\n",
    "print(f\"THE SUM OF FIRST NATURAL 10 NUMBERS IS {a}\")\n",
    "print(f\"THE MULTIPLICATION OF FIRST NATURAL 10 NUMBERS IS {b}\")\n",
    "\n",
    "# using while loop\n",
    "i=1\n",
    "a=0\n",
    "b=1\n",
    "while i<=10:\n",
    "    a=a+i\n",
    "    b=b*i\n",
    "    i=i+1\n",
    "print(f\"THE SUM OF FIRST NATURAL 10 NUMBERS IS {a}\")\n",
    "print(f\"THE MULTIPLICATION OF FIRST NATURAL 10 NUMBERS IS {b}\")\n",
    " "
   ]
  },
  {
   "cell_type": "code",
   "execution_count": 29,
   "id": "a0173bd2-17b2-4cc8-8ae0-1cbe078b4e3f",
   "metadata": {},
   "outputs": [
    {
     "name": "stdin",
     "output_type": "stream",
     "text": [
      "ENTER THE UNITS OF ELECTRICITY CONSUMED IN A MONTH:  310\n"
     ]
    },
    {
     "name": "stdout",
     "output_type": "stream",
     "text": [
      "YOUR ELECTRICITY BILL IS 2250.0\n"
     ]
    }
   ],
   "source": [
    "# Q3\n",
    "n = int(input(\"ENTER THE UNITS OF ELECTRICITY CONSUMED IN A MONTH: \"))\n",
    "if 0<n<=100:\n",
    "    a = n*4.5\n",
    "    print(f\"YOUR ELECTRICITY BILL IS {a}\")\n",
    "elif 100<n<=200:\n",
    "    a = 100*4.5 + (n-100)*6\n",
    "    print(f\"YOUR ELECTRICITY BILL IS {a}\")\n",
    "elif 200<n<=300:\n",
    "    a = 100*4.5 + 100*6 + (n-200)*10\n",
    "    print(f\"YOUR ELECTRICITY BILL IS {a}\")\n",
    "else:\n",
    "    a = 100*4.5 + 100*6 + 100*10 + (n-300)*20\n",
    "    print(f\"YOUR ELECTRICITY BILL IS {a}\")"
   ]
  },
  {
   "cell_type": "code",
   "execution_count": 1,
   "id": "6b4ba2a7-8be1-4535-82fe-ce6889f164c7",
   "metadata": {},
   "outputs": [
    {
     "name": "stdout",
     "output_type": "stream",
     "text": [
      "[1, 2, 3, 4, 5, 6, 7, 8, 9, 10, 11, 12, 13, 14, 15, 16, 17, 18, 19, 20, 21, 22, 23, 24, 25, 26, 27, 28, 29, 30, 31, 32, 33, 34, 35, 36, 37, 38, 39, 40, 41, 42, 43, 44, 45, 46, 47, 48, 49, 50, 51, 52, 53, 54, 55, 56, 57, 58, 59, 60, 61, 62, 63, 64, 65, 66, 67, 68, 69, 70, 71, 72, 73, 74, 75, 76, 77, 78, 79, 80, 81, 82, 83, 84, 85, 86, 87, 88, 89, 90, 91, 92, 93, 94, 95, 96, 97, 98, 99, 100]\n",
      "[8, 64, 125, 216, 512, 1000, 1728, 2744, 3375, 4096, 5832, 8000, 10648, 13824, 15625, 17576, 21952, 27000, 32768, 39304, 42875, 46656, 54872, 64000, 74088, 85184, 91125, 97336, 110592, 125000, 140608, 157464, 166375, 175616, 195112, 216000, 238328, 262144, 274625, 287496, 314432, 343000, 373248, 405224, 421875, 438976, 474552, 512000, 551368, 592704, 614125, 636056, 681472, 729000, 778688, 830584, 857375, 884736, 941192, 1000000]\n"
     ]
    }
   ],
   "source": [
    "# Q4\n",
    "# using for loop\n",
    "l1=[]\n",
    "l2=[]\n",
    "for i in range(1,101):\n",
    "    l1.append(i)\n",
    "print(l1)\n",
    "# [i**3 for i in l1]\n",
    "for i in l1:\n",
    "    if i**3%4 == 0 or i**3%5==0:\n",
    "        l2.append(i**3)\n",
    "    else:\n",
    "        continue\n",
    "print(l2)\n",
    "\n",
    "\n",
    "# using while loop\n",
    "m1=[]\n",
    "m2=[]\n",
    "m3=[]\n",
    "i=1\n",
    "while i<=100:\n",
    "    m1.append(i)\n",
    "    i=i+1\n",
    "print(m1)\n",
    "a=0\n",
    "while a < len(m1):\n",
    "    m2.append(m1[a]**3)\n",
    "    if m2[a]%4==0 or m2[a]%5==0:\n",
    "        m3.append(m2[a])\n",
    "    else:\n",
    "        pass\n",
    "    a=a+1\n",
    "print(m3)\n",
    "    "
   ]
  },
  {
   "cell_type": "code",
   "execution_count": 2,
   "id": "43103882-9e28-4549-82bc-0761ec2874a2",
   "metadata": {},
   "outputs": [
    {
     "name": "stdout",
     "output_type": "stream",
     "text": [
      "NUMBER OF VOWELS IN GIVEN STRING IS 12\n"
     ]
    }
   ],
   "source": [
    "# Q5\n",
    "string = \"I want to become a data scientist\"\n",
    "vowels = ['a','e','i','o','u','A','E','I','O','U']\n",
    "count=0\n",
    "for i in string:\n",
    "    if i in vowels:\n",
    "        count+=1\n",
    "print(f'NUMBER OF VOWELS IN GIVEN STRING IS {count}')\n"
   ]
  },
  {
   "cell_type": "code",
   "execution_count": null,
   "id": "540abdcd-b306-42d4-a2de-34ad598dd286",
   "metadata": {},
   "outputs": [],
   "source": []
  }
 ],
 "metadata": {
  "kernelspec": {
   "display_name": "Python 3 (ipykernel)",
   "language": "python",
   "name": "python3"
  },
  "language_info": {
   "codemirror_mode": {
    "name": "ipython",
    "version": 3
   },
   "file_extension": ".py",
   "mimetype": "text/x-python",
   "name": "python",
   "nbconvert_exporter": "python",
   "pygments_lexer": "ipython3",
   "version": "3.10.8"
  }
 },
 "nbformat": 4,
 "nbformat_minor": 5
}
