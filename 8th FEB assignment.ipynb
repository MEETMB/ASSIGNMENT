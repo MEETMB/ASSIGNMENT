{
 "cells": [
  {
   "cell_type": "code",
   "execution_count": 1,
   "id": "c7c2600b-bdf3-4bee-ab34-ed0a64b1d072",
   "metadata": {},
   "outputs": [
    {
     "name": "stdout",
     "output_type": "stream",
     "text": [
      "triangle has three sides\n",
      "pentagon has five sides\n"
     ]
    }
   ],
   "source": [
    "# Q1\n",
    "# Abstraction is used to hide implementation and showing only required data to user\n",
    "\n",
    "import abc \n",
    "\n",
    "class polygon :\n",
    "    \n",
    "    @abc.abstractmethod\n",
    "    def side(self):\n",
    "        pass\n",
    "\n",
    "    \n",
    "class triangle(polygon):\n",
    "    def side(self):\n",
    "        print(\"triangle has three sides\")\n",
    "        \n",
    "class pentagon(polygon):\n",
    "    def side(self):\n",
    "        print(\"pentagon has five sides\")\n",
    "        \n",
    "\n",
    "t = triangle()\n",
    "t.side()\n",
    "p = pentagon()\n",
    "p.side()"
   ]
  },
  {
   "cell_type": "code",
   "execution_count": 2,
   "id": "49b822b1-e13d-4d8e-9f29-e9fb948dfd7a",
   "metadata": {},
   "outputs": [
    {
     "name": "stdout",
     "output_type": "stream",
     "text": [
      "the mileage is 200 miles/hr\n",
      "the mileage is 250 miles/hr\n"
     ]
    }
   ],
   "source": [
    "# Q2\n",
    "# Abstraction is used to hide implementation code and showing only required information to the user\n",
    "# while encapsulation is used for data binding as we try to combine similar data types and functions together.\n",
    "\n",
    "import abc\n",
    "\n",
    "class car :\n",
    "    @abc.abstractmethod\n",
    "    def mileage(self):\n",
    "        pass\n",
    "\n",
    "class Toyota(car):\n",
    "    def mileage(self):\n",
    "        print(\"the mileage is 200 miles/hr\")\n",
    "        \n",
    "class Tesla(car):\n",
    "    def mileage(self):\n",
    "        print(\"the mileage is 250 miles/hr\")    \n",
    "        \n",
    "t = Toyota()\n",
    "t.mileage()\n",
    "te = Tesla()\n",
    "te.mileage()\n",
    "\n"
   ]
  },
  {
   "cell_type": "code",
   "execution_count": 7,
   "id": "0adecc7b-2dfb-4af1-8844-fa5a4aa094ce",
   "metadata": {},
   "outputs": [
    {
     "data": {
      "text/plain": [
       "34650"
      ]
     },
     "execution_count": 7,
     "metadata": {},
     "output_type": "execute_result"
    }
   ],
   "source": [
    "class company :\n",
    "    def __init__(self,name,age,salary):\n",
    "        self.name = name\n",
    "        self.age = age\n",
    "        self.__salary = salary\n",
    "       \n",
    "    \n",
    "    def get_details(self):\n",
    "        return self.name , self.age , self.__salary\n",
    "    \n",
    "    \n",
    "c = company(\"meet\",24,34650)\n",
    "c.get_details()\n",
    "c._company__salary"
   ]
  },
  {
   "cell_type": "code",
   "execution_count": null,
   "id": "bfd0600e-5f55-4c66-8f4d-447e5a45eb09",
   "metadata": {},
   "outputs": [],
   "source": []
  },
  {
   "cell_type": "code",
   "execution_count": null,
   "id": "3a717ebe-bb25-4ac1-a1f3-9345f7ffa0e0",
   "metadata": {},
   "outputs": [],
   "source": [
    "# Q3\n",
    "# abc module in python provides the infrastructure for defining custom abstract base classes.\n",
    "# it is used because abstract classes can not be instantiated in python.\n",
    "\n"
   ]
  },
  {
   "cell_type": "code",
   "execution_count": null,
   "id": "46773a9c-ea9d-46c9-9d74-7d8c13603a55",
   "metadata": {},
   "outputs": [],
   "source": [
    "# Q4\n",
    "# we can achieve data abstraction by creating abstract classes and inheriting them later."
   ]
  },
  {
   "cell_type": "code",
   "execution_count": null,
   "id": "92400c3a-bb82-47f1-a220-f1b4ff14cd2a",
   "metadata": {},
   "outputs": [],
   "source": [
    "# Q5\n",
    "No, you can not create an instance of an abstract class because it does not have complete implementation."
   ]
  }
 ],
 "metadata": {
  "kernelspec": {
   "display_name": "Python 3 (ipykernel)",
   "language": "python",
   "name": "python3"
  },
  "language_info": {
   "codemirror_mode": {
    "name": "ipython",
    "version": 3
   },
   "file_extension": ".py",
   "mimetype": "text/x-python",
   "name": "python",
   "nbconvert_exporter": "python",
   "pygments_lexer": "ipython3",
   "version": "3.10.8"
  }
 },
 "nbformat": 4,
 "nbformat_minor": 5
}
